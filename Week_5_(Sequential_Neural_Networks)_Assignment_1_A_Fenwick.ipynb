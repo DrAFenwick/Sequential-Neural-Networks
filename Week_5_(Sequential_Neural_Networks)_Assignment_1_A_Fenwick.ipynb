{
  "nbformat": 4,
  "nbformat_minor": 0,
  "metadata": {
    "colab": {
      "name": "Week_5_(Sequential_Neural_Networks)_Assignment_1_A_Fenwick.ipynb",
      "provenance": [],
      "collapsed_sections": []
    },
    "kernelspec": {
      "name": "python3",
      "display_name": "Python 3"
    },
    "language_info": {
      "name": "python"
    }
  },
  "cells": [
    {
      "cell_type": "markdown",
      "metadata": {
        "id": "tH6d0ePqw3vc"
      },
      "source": [
        "# Developing a neural network from scratch\n",
        "\n",
        "by Ali Fenwick\n",
        "\n",
        "## Introduction\n",
        "\n",
        "In this notebook, I will develop a neural net from scratch to illustrate the operations of the model (such as forward pass) and explain how neural networks optimize their prediction accuracy through a concept called backpropagation (Rumelhart et al., 1986a). This notebook is part of an assignment which explains the mathematics behind forward pass and backpropagation and aims to reflect how some of the equations are translated into code to allow the model to run effectively. \n",
        "\n",
        "## Dataset\n",
        "\n",
        "A dataset has been provided by the examiner for use in this assignment to test the performance of the neural net. The dataset contains 1000 rows and 4 columns. 3 columns x variables which forms the input data for the model and 1 column which is the output variables Y which I aim to predict with the neural net. The Y variable consists of 0s and 1s, which means that the I will address a binary classification problem. Besides testing the dataset with the coded neural net, I will also us a logistic regression algorithm from sklearn to compare the results between both approaches.\n",
        "\n",
        "## Forward Pass and Backpropagation.\n",
        "\n",
        "In machine learning, forward propagation (or forward pass) refers to the calculation and storage of intermediate variables (including outputs) for a neural network going from the input layer to the output layer. Backpropagation, on the other hand, computes the gradient of the loss function with respect to the weights of the network for a single input–output example. This is an important step in neural networks, as this is the way the algorithm learns to correct the weights and biases for its model. Backpropagation evaluates the expression for the derivative of the cost function (following the chain rule) as a product of derivatives between each layer from right to left with the gradient of the weights between each layer being a simple modification of the partial products. \n",
        "\n",
        "# Coding Section\n",
        "\n",
        "## The development of a neural network focusing on forward and backward propagation."
      ]
    },
    {
      "cell_type": "markdown",
      "metadata": {
        "id": "5X4_5_SdjSVS"
      },
      "source": [
        "Let's start with loading the necessry libraries for the model development. "
      ]
    },
    {
      "cell_type": "code",
      "metadata": {
        "id": "WtibMHgLxASt"
      },
      "source": [
        "import pandas as pd\n",
        "import numpy as np\n",
        "import re\n",
        "import matplotlib.pyplot as plt"
      ],
      "execution_count": null,
      "outputs": []
    },
    {
      "cell_type": "markdown",
      "metadata": {
        "id": "DuqICedUkH2J"
      },
      "source": [
        "Here I will load the dataset and explore the data briefly"
      ]
    },
    {
      "cell_type": "code",
      "metadata": {
        "id": "_Y-SOpEZxEG4"
      },
      "source": [
        "data = pd.read_csv(\"/content/assignment1_SeqNNs.csv\")"
      ],
      "execution_count": null,
      "outputs": []
    },
    {
      "cell_type": "code",
      "metadata": {
        "colab": {
          "base_uri": "https://localhost:8080/"
        },
        "id": "fjGgz6c7xKAl",
        "outputId": "b71b240e-cb5b-4146-a8eb-059366b53f78"
      },
      "source": [
        "data.info()"
      ],
      "execution_count": null,
      "outputs": [
        {
          "output_type": "stream",
          "name": "stdout",
          "text": [
            "<class 'pandas.core.frame.DataFrame'>\n",
            "RangeIndex: 1000 entries, 0 to 999\n",
            "Data columns (total 4 columns):\n",
            " #   Column  Non-Null Count  Dtype  \n",
            "---  ------  --------------  -----  \n",
            " 0   x1      1000 non-null   float64\n",
            " 1   x2      1000 non-null   float64\n",
            " 2   x3      1000 non-null   float64\n",
            " 3   y       1000 non-null   float64\n",
            "dtypes: float64(4)\n",
            "memory usage: 31.4 KB\n"
          ]
        }
      ]
    },
    {
      "cell_type": "code",
      "metadata": {
        "colab": {
          "base_uri": "https://localhost:8080/",
          "height": 297
        },
        "id": "1NtZiXOJxMLx",
        "outputId": "b855da9d-b4a3-4298-aff1-2224cc1aeb0f"
      },
      "source": [
        "data.describe()"
      ],
      "execution_count": null,
      "outputs": [
        {
          "output_type": "execute_result",
          "data": {
            "text/html": [
              "<div>\n",
              "<style scoped>\n",
              "    .dataframe tbody tr th:only-of-type {\n",
              "        vertical-align: middle;\n",
              "    }\n",
              "\n",
              "    .dataframe tbody tr th {\n",
              "        vertical-align: top;\n",
              "    }\n",
              "\n",
              "    .dataframe thead th {\n",
              "        text-align: right;\n",
              "    }\n",
              "</style>\n",
              "<table border=\"1\" class=\"dataframe\">\n",
              "  <thead>\n",
              "    <tr style=\"text-align: right;\">\n",
              "      <th></th>\n",
              "      <th>x1</th>\n",
              "      <th>x2</th>\n",
              "      <th>x3</th>\n",
              "      <th>y</th>\n",
              "    </tr>\n",
              "  </thead>\n",
              "  <tbody>\n",
              "    <tr>\n",
              "      <th>count</th>\n",
              "      <td>1000.000000</td>\n",
              "      <td>1000.000000</td>\n",
              "      <td>1000.000000</td>\n",
              "      <td>1000.000000</td>\n",
              "    </tr>\n",
              "    <tr>\n",
              "      <th>mean</th>\n",
              "      <td>0.013503</td>\n",
              "      <td>1.019268</td>\n",
              "      <td>0.533061</td>\n",
              "      <td>0.466000</td>\n",
              "    </tr>\n",
              "    <tr>\n",
              "      <th>std</th>\n",
              "      <td>1.032161</td>\n",
              "      <td>0.999535</td>\n",
              "      <td>1.019132</td>\n",
              "      <td>0.499092</td>\n",
              "    </tr>\n",
              "    <tr>\n",
              "      <th>min</th>\n",
              "      <td>-2.973315</td>\n",
              "      <td>-2.209955</td>\n",
              "      <td>-2.519478</td>\n",
              "      <td>0.000000</td>\n",
              "    </tr>\n",
              "    <tr>\n",
              "      <th>25%</th>\n",
              "      <td>-0.674494</td>\n",
              "      <td>0.327711</td>\n",
              "      <td>-0.162202</td>\n",
              "      <td>0.000000</td>\n",
              "    </tr>\n",
              "    <tr>\n",
              "      <th>50%</th>\n",
              "      <td>0.029750</td>\n",
              "      <td>1.012551</td>\n",
              "      <td>0.488647</td>\n",
              "      <td>0.000000</td>\n",
              "    </tr>\n",
              "    <tr>\n",
              "      <th>75%</th>\n",
              "      <td>0.669901</td>\n",
              "      <td>1.688176</td>\n",
              "      <td>1.193795</td>\n",
              "      <td>1.000000</td>\n",
              "    </tr>\n",
              "    <tr>\n",
              "      <th>max</th>\n",
              "      <td>3.695300</td>\n",
              "      <td>3.929661</td>\n",
              "      <td>4.357940</td>\n",
              "      <td>1.000000</td>\n",
              "    </tr>\n",
              "  </tbody>\n",
              "</table>\n",
              "</div>"
            ],
            "text/plain": [
              "                x1           x2           x3            y\n",
              "count  1000.000000  1000.000000  1000.000000  1000.000000\n",
              "mean      0.013503     1.019268     0.533061     0.466000\n",
              "std       1.032161     0.999535     1.019132     0.499092\n",
              "min      -2.973315    -2.209955    -2.519478     0.000000\n",
              "25%      -0.674494     0.327711    -0.162202     0.000000\n",
              "50%       0.029750     1.012551     0.488647     0.000000\n",
              "75%       0.669901     1.688176     1.193795     1.000000\n",
              "max       3.695300     3.929661     4.357940     1.000000"
            ]
          },
          "metadata": {},
          "execution_count": 4
        }
      ]
    },
    {
      "cell_type": "markdown",
      "metadata": {
        "id": "r4qyHRgtwhSl"
      },
      "source": [
        "# Developing a class for the neural net\n",
        "\n",
        "Classes provide a means of bundling data and functionality together. Creating a new class creates a new type of object, allowing new instances of that type to be made. Each class instance can have attributes attached to it for maintaining its state. Class instances can also have methods (defined by its class) for modifying its state.\n",
        "\n",
        "In this class, I will define the parameters such has the amount of hidden layers, regularization, training examples, learning rate, and batch side. After which, the class will reflect the one-hot encoding to define the Y output, sigmoid activation necessary to compute the output, the forward pass, the cost function, back propagation, and the gradient descent. The class also reflects the mathematical equations required for these operations."
      ]
    },
    {
      "cell_type": "code",
      "metadata": {
        "id": "mOkI_sFO5kWU"
      },
      "source": [
        "class NeuralNetMLP(object):\n",
        "    \n",
        "    \"\"\" Defining a class for deep learning model for a binanry classification \n",
        "    problem. Initializing the class with the following parameters: number of \n",
        "    hidden layers, epochs, and batch size.\n",
        "    \"\"\"\n",
        "\n",
        "    def __init__(self, n_hidden=1, epochs=150, eta=0.001, seed=None, shuffle=True, \n",
        "                  minibatch_size=1):\n",
        "        \n",
        "        self.n_hidden = n_hidden\n",
        "        self.epochs = epochs\n",
        "        self.eta = eta\n",
        "        self.random = np.random.RandomState(seed)\n",
        "        self.shuffle = shuffle\n",
        "        self.minibatch_size = minibatch_size\n",
        "            \n",
        "    # defining function for the sigmoid equation - (σ): g(z) = 1 / (1 + e^{-z}). \n",
        "\n",
        "    def _sigmoid(self, z):\n",
        "            return 1. / (1. + np.exp(-z))\n",
        "\n",
        "        # defining a function for the forward pass\n",
        "\n",
        "    def _forward(self, X):\n",
        "\n",
        "            # Forward Pass\n",
        "            # Stepwise approach starting with the net input (z) of the hidden layer. \n",
        "            # Next set the activation (a_h) of the hidden layer using the signoid function\n",
        "            # (alternatively tanh can be used here like in the written assignment). \n",
        "            # Next step is the net input of the output layer (z_out) and finally the activation\n",
        "            # of the output layer (a_out) using the signmoid function\n",
        "\n",
        "        z_h = np.dot(X, self.w_h) + self.b_h\n",
        "        a_h = self._sigmoid(z_h)\n",
        "        z_out = np.dot(a_h, self.w_out) + self.b_out\n",
        "        a_out = self._sigmoid(z_out)\n",
        "        return z_h, a_h, z_out, a_out\n",
        "\n",
        "            #Loss Function\n",
        "            #After the forward pass we define the loss function Mean Square Error (MSE).\n",
        "            #The left and right part of the loss function are calculated seperately.\n",
        "\n",
        "    def _cost_function(self, y_real, output):\n",
        "            \n",
        "        left = -y_real * (np.log(output))\n",
        "        right = (1. - y_real) * np.log(1. - output)\n",
        "        cost = np.sum(left - right)\n",
        "        return cost\n",
        "\n",
        "    def predict(self, X):\n",
        "        z_h, a_h, z_out, a_out = self._forward(X)\n",
        "        y_pred = np.argmax(z_out, axis=1)\n",
        "        return y_pred\n",
        "\n",
        "    def fit(self, X_train, y_train, X_valid, y_valid):\n",
        "            \n",
        "        #Using the training data to update the weights\n",
        "        n_output = np.unique(y_train).shape[0]  \n",
        "        n_features = X_train.shape[1]\n",
        "\n",
        "        # weights for input -> hidden\n",
        "        self.b_h = np.zeros(self.n_hidden)\n",
        "        self.w_h = self.random.normal(loc=0.0, scale=0.1,\n",
        "                                      size=(n_features, self.n_hidden))\n",
        "\n",
        "        # weights for hidden -> output\n",
        "        self.b_out = np.zeros(n_output)\n",
        "        self.w_out = self.random.normal(loc=0.0, scale=0.1,\n",
        "                                        size=(self.n_hidden, n_output))\n",
        "\n",
        "        epoch_strlen = len(str(self.epochs))  # for progress formatting\n",
        "        self.eval_ = {'cost': [], 'train_acc': [], 'valid_acc': []}\n",
        "\n",
        "        y_train_real = n_output\n",
        "\n",
        "        # iterate over training epochs\n",
        "        for i in range(self.epochs):\n",
        "\n",
        "            # iterate over minibatches\n",
        "            indices = np.arange(X_train.shape[0])\n",
        "\n",
        "            if self.shuffle:\n",
        "                self.random.shuffle(indices)\n",
        "\n",
        "            for start in range(0, indices.shape[0] - self.minibatch_size +\n",
        "                                    1, self.minibatch_size):\n",
        "                batch = indices[start:start + self.minibatch_size]\n",
        "\n",
        "                # forward propagation\n",
        "                z_h, a_h, z_out, a_out = self._forward(X_train[batch])\n",
        "\n",
        "                \"\"\"Backpropagation algorithm adjusting the weights (delta) to find\n",
        "                the correct measurements for the model. This is done by calculating \n",
        "                the partial derivative of the loss function over the weights using\n",
        "                the chain rule.\"\"\"\n",
        "\n",
        "                # Calculating delta_h combining the delta out error (left-side of the equation \n",
        "                #of expression #4) together with the activation of the derivative \n",
        "                # (right-hand side of expression #4 on page 412). First we calculate with delta\n",
        "                #output error (a_out is calculated Y) then we calculate the derivative of the\n",
        "                #activation function. \n",
        "                \n",
        "                delta_out = a_out - y_train_real #Step 1\n",
        "                sigmoid_der_h = a_h * (1. - a_h) #Step 2\n",
        "                delta_h = (np.dot(delta_out, self.w_out.T) *\n",
        "                            sigmoid_der_h) #Step 3\n",
        "                \n",
        "                #Note: sigmoid derivative code represents the compact form of the \n",
        "                #derivative of the activation function from Luis' ppt 02\n",
        "              \n",
        "\n",
        "                #Computing Gradient Descent\n",
        "\n",
        "                # Computing the loss gradient for the output layer in expression #1\n",
        "                # of the book (page 412)\n",
        "                grad_w_out = np.dot(a_h.T, delta_out)\n",
        "                grad_b_out = np.sum(delta_out, axis=0)\n",
        "\n",
        "                # Computing the loss gradient for the hidden layer in expression #5 \n",
        "                # of the book (page 412)\n",
        "                grad_w_h = np.dot(X_train[batch].T, delta_h)\n",
        "                grad_b_h = np.sum(delta_h, axis=0)\n",
        "\n",
        "                # Updating weights for both the hidden layer and the outer later. First,\n",
        "                #let's calculate the hidden layer (see assignment 1 equations)\n",
        "                delta_w_h = grad_w_h + self.w_h\n",
        "                delta_b_h = grad_b_h \n",
        "                self.w_h -= self.eta * delta_w_h # updating weights of hidden layer\n",
        "                self.b_h -= self.eta * delta_b_h # updating bias of hidden layer\n",
        "\n",
        "                delta_w_out = grad_w_out + self.w_out \n",
        "                delta_b_out = grad_b_out  \n",
        "                self.w_out -= self.eta * delta_w_out # updating weights of the output layer\n",
        "                self.b_out -= self.eta * delta_b_out # updating nias of the output layer\n",
        "\n",
        "\n",
        "             # Model Evaluation\n",
        "\n",
        "            # During training evaluate each epoch\n",
        "            z_h, a_h, z_out, a_out = self._forward(X_train)\n",
        "            \n",
        "            cost = self._cost_function(y_real=y_train_real,\n",
        "                                      output=a_out)\n",
        "\n",
        "            train_y_pred = self.predict(X_train)\n",
        "            valid_y_pred = self.predict(X_valid)\n",
        "\n",
        "            train_accuracy = ((np.sum(y_train == train_y_pred)).astype(np.float) /\n",
        "                          X_train.shape[0])\n",
        "            valid_accuracy = ((np.sum(y_valid == valid_y_pred)).astype(np.float) /\n",
        "                          X_valid.shape[0])\n",
        "\n",
        "            import sys\n",
        "            sys.stderr.write('\\r%0*d/%d | Cost: %.2f '\n",
        "                              '| Train/Valid Acc.: %.2f%%/%.2f%% ' %\n",
        "                              (epoch_strlen, i+1, self.epochs, cost,\n",
        "                              train_accuracy*100, valid_accuracy*100))\n",
        "            sys.stderr.flush()\n",
        "\n",
        "            self.eval_['cost'].append(cost)\n",
        "            self.eval_['train_acc'].append(train_accuracy)\n",
        "            self.eval_['valid_acc'].append(valid_accuracy)\n",
        "\n",
        "        return self"
      ],
      "execution_count": null,
      "outputs": []
    },
    {
      "cell_type": "markdown",
      "metadata": {
        "id": "bDJ5hD5nl9OX"
      },
      "source": [
        "In this section, I will divide the dataset into a training and test set. 80% of the data will be used to train the model and 20% of the data will be used to test the model once trained. The model will run 200 training examples to evaluate the model performance."
      ]
    },
    {
      "cell_type": "code",
      "metadata": {
        "id": "ZPI3lD2Ql3iO"
      },
      "source": [
        "n_epochs = 200\n",
        "\n",
        "# for the linear classifier\n",
        "train_x = data.values[:800,:-1]\n",
        "train_y = data.values[:800,-1]\n",
        "\n",
        "test_x = data.values[800:,:-1]\n",
        "test_y = data.values[800:,-1]"
      ],
      "execution_count": null,
      "outputs": []
    },
    {
      "cell_type": "markdown",
      "metadata": {
        "id": "2KskotbrmqUE"
      },
      "source": [
        "Here the model is fitted and runs on both the test and validation set. "
      ]
    },
    {
      "cell_type": "code",
      "metadata": {
        "colab": {
          "base_uri": "https://localhost:8080/"
        },
        "id": "5DNW014Il9T9",
        "outputId": "b682dae3-6785-4a36-bba8-bdf835322b82"
      },
      "source": [
        "nn = NeuralNetMLP(n_hidden=1,  \n",
        "                  epochs=n_epochs, \n",
        "                  eta=0.001,\n",
        "                  minibatch_size=100, \n",
        "                  shuffle=True,\n",
        "                  seed=1)\n",
        "\n",
        "nn.fit(train_x, train_y, test_x, test_y)\n",
        "      "
      ],
      "execution_count": null,
      "outputs": [
        {
          "output_type": "stream",
          "name": "stderr",
          "text": [
            "200/200 | Cost: 278.53 | Train/Valid Acc.: 94.88%/95.00% "
          ]
        },
        {
          "output_type": "execute_result",
          "data": {
            "text/plain": [
              "<__main__.NeuralNetMLP at 0x7f61df596310>"
            ]
          },
          "metadata": {},
          "execution_count": 38
        }
      ]
    },
    {
      "cell_type": "markdown",
      "metadata": {
        "id": "c2kHHZ5OnCLj"
      },
      "source": [
        "Model performance is 94.88% for the training set and 95.00% for the validtion set which shows good model fit."
      ]
    },
    {
      "cell_type": "markdown",
      "metadata": {
        "id": "q1z3TQwTp4AC"
      },
      "source": [
        "# Testing the dataset with sklearn's LogisticRegression() algorithm and comparimg the results with the neural net."
      ]
    },
    {
      "cell_type": "markdown",
      "metadata": {
        "id": "hDcttDR1nhS4"
      },
      "source": [
        "Load necessary librabries"
      ]
    },
    {
      "cell_type": "code",
      "metadata": {
        "id": "qYTK1bf-p1oF"
      },
      "source": [
        "from sklearn.linear_model import LogisticRegression"
      ],
      "execution_count": null,
      "outputs": []
    },
    {
      "cell_type": "markdown",
      "metadata": {
        "id": "6-cELpemn6K2"
      },
      "source": [
        "Create training and test sets"
      ]
    },
    {
      "cell_type": "code",
      "metadata": {
        "id": "bDEV95xZ5FKA"
      },
      "source": [
        "from sklearn.model_selection import train_test_split\n",
        "X_train, y_train, X_test, y_test = train_test_split(train_x, train_y, test_size=0.20)"
      ],
      "execution_count": null,
      "outputs": []
    },
    {
      "cell_type": "markdown",
      "metadata": {
        "id": "bMAkDePOoCMu"
      },
      "source": [
        "Loading the logistical regression algorithm fitting it with the data"
      ]
    },
    {
      "cell_type": "code",
      "metadata": {
        "colab": {
          "base_uri": "https://localhost:8080/"
        },
        "id": "g4RqFtLap27f",
        "outputId": "792ae4ca-c49b-4e00-a5d2-dc5e373c378f"
      },
      "source": [
        "logreg = LogisticRegression()\n",
        "logreg.fit(train_x, train_y)"
      ],
      "execution_count": null,
      "outputs": [
        {
          "output_type": "execute_result",
          "data": {
            "text/plain": [
              "LogisticRegression(C=1.0, class_weight=None, dual=False, fit_intercept=True,\n",
              "                   intercept_scaling=1, l1_ratio=None, max_iter=100,\n",
              "                   multi_class='auto', n_jobs=None, penalty='l2',\n",
              "                   random_state=None, solver='lbfgs', tol=0.0001, verbose=0,\n",
              "                   warm_start=False)"
            ]
          },
          "metadata": {},
          "execution_count": 40
        }
      ]
    },
    {
      "cell_type": "markdown",
      "metadata": {
        "id": "FeJXL7QxoOSO"
      },
      "source": [
        "Training accuracy is 94.4%"
      ]
    },
    {
      "cell_type": "code",
      "metadata": {
        "colab": {
          "base_uri": "https://localhost:8080/"
        },
        "id": "WJhcKnFb5aIN",
        "outputId": "ebec44d0-db5f-4bc1-87ad-dcdd75000549"
      },
      "source": [
        "logreg.score(train_x, train_y)"
      ],
      "execution_count": null,
      "outputs": [
        {
          "output_type": "execute_result",
          "data": {
            "text/plain": [
              "0.94375"
            ]
          },
          "metadata": {},
          "execution_count": 26
        }
      ]
    },
    {
      "cell_type": "markdown",
      "metadata": {
        "id": "SeBN4T6ZoSsp"
      },
      "source": [
        "Validation set accuracy is 95%"
      ]
    },
    {
      "cell_type": "code",
      "metadata": {
        "id": "sPauY09Y5pBH",
        "colab": {
          "base_uri": "https://localhost:8080/"
        },
        "outputId": "6a86dd17-7928-4d72-e772-28bc21ee6b8c"
      },
      "source": [
        "# Use score method to get accuracy of model\n",
        "score = logreg.score(test_x, test_y)\n",
        "print(score)"
      ],
      "execution_count": null,
      "outputs": [
        {
          "output_type": "stream",
          "name": "stdout",
          "text": [
            "0.95\n"
          ]
        }
      ]
    },
    {
      "cell_type": "code",
      "metadata": {
        "colab": {
          "base_uri": "https://localhost:8080/"
        },
        "id": "YXYsrcGUxK6P",
        "outputId": "c67a852a-953b-4ee4-ce68-077500af18fc"
      },
      "source": [
        "predictions = logreg.predict(test_x)\n",
        "print(predictions)"
      ],
      "execution_count": null,
      "outputs": [
        {
          "output_type": "stream",
          "name": "stdout",
          "text": [
            "[0. 1. 1. 0. 0. 0. 0. 0. 1. 1. 1. 0. 1. 1. 0. 0. 0. 1. 0. 0. 0. 1. 0. 1.\n",
            " 1. 0. 1. 0. 1. 0. 1. 0. 1. 0. 0. 0. 1. 1. 0. 1. 0. 0. 0. 0. 0. 1. 1. 0.\n",
            " 1. 1. 1. 0. 0. 1. 1. 1. 0. 1. 0. 1. 0. 0. 1. 1. 1. 0. 1. 1. 1. 1. 0. 1.\n",
            " 0. 0. 1. 1. 1. 1. 0. 0. 0. 1. 1. 0. 0. 1. 1. 0. 1. 0. 1. 1. 0. 1. 1. 0.\n",
            " 0. 0. 0. 1. 1. 0. 0. 0. 0. 1. 0. 1. 0. 0. 0. 0. 0. 0. 0. 1. 1. 1. 1. 1.\n",
            " 1. 0. 1. 1. 1. 0. 1. 1. 1. 0. 0. 1. 0. 1. 0. 1. 0. 0. 1. 0. 1. 0. 1. 1.\n",
            " 0. 0. 0. 0. 1. 0. 1. 0. 0. 1. 1. 1. 1. 0. 0. 0. 1. 0. 0. 1. 0. 0. 0. 1.\n",
            " 1. 0. 1. 0. 0. 0. 1. 0. 0. 1. 0. 1. 1. 1. 0. 0. 0. 0. 1. 0. 1. 1. 1. 0.\n",
            " 1. 0. 1. 1. 1. 1. 0. 0.]\n"
          ]
        }
      ]
    },
    {
      "cell_type": "markdown",
      "metadata": {
        "id": "hVDcg4K2ofDF"
      },
      "source": [
        "Here I also conducted a confusion matrix which shows great results."
      ]
    },
    {
      "cell_type": "code",
      "metadata": {
        "id": "px-FmaZZVyF4",
        "colab": {
          "base_uri": "https://localhost:8080/"
        },
        "outputId": "2c51dfc6-df4f-4a2e-cc0c-3d90f2470861"
      },
      "source": [
        "import matplotlib.pyplot as plt\n",
        "import seaborn as sns\n",
        "from sklearn import metrics\n",
        "\n",
        "cm = metrics.confusion_matrix(test_y, predictions)\n",
        "print(cm)"
      ],
      "execution_count": null,
      "outputs": [
        {
          "output_type": "stream",
          "name": "stdout",
          "text": [
            "[[100   7]\n",
            " [  3  90]]\n"
          ]
        }
      ]
    },
    {
      "cell_type": "code",
      "metadata": {
        "colab": {
          "base_uri": "https://localhost:8080/",
          "height": 524
        },
        "id": "s-u_jlUz_rif",
        "outputId": "42e84f59-88b4-459d-8659-05266f37128d"
      },
      "source": [
        "plt.figure(figsize=(9,9))\n",
        "sns.heatmap(cm, annot=True, fmt=\".3f\", linewidths=.5, square = True, cmap = 'Blues_r');\n",
        "plt.ylabel('Actual label');\n",
        "plt.xlabel('Predicted label');\n",
        "all_sample_title = 'Accuracy Score: {0}'.format(score)\n",
        "plt.title(all_sample_title, size = 15);"
      ],
      "execution_count": null,
      "outputs": [
        {
          "output_type": "display_data",
          "data": {
            "image/png": "[encoded data removed]",
            "text/plain": [
              "<Figure size 648x648 with 2 Axes>"
            ]
          },
          "metadata": {
            "needs_background": "light"
          }
        }
      ]
    },
    {
      "cell_type": "code",
      "metadata": {
        "id": "rFMD3TJw_x4t"
      },
      "source": [
        ""
      ],
      "execution_count": null,
      "outputs": []
    },
    {
      "cell_type": "markdown",
      "metadata": {
        "id": "eWS56HiUDS21"
      },
      "source": [
        "# Summary of Neural Net Design and Testing"
      ]
    },
    {
      "cell_type": "markdown",
      "metadata": {
        "id": "8WbYEJNcO--W"
      },
      "source": [
        "The design of the neural net in python, without using existing librabries like Keras and Tensorflow, was an interesting exercise. It helped to understand the math underlying forward pass, backpropagation, and gradient descent and how to code these various algoritms. Having a solid understanding of how the mechanics work of neural nets is crucial for model design and improvement.\n",
        "\n",
        "In this notebook, the performance of a neural net was compared with that of a logistical regression algorithm from sklearn using a provided dataset. The model addressed a binary classification problem predicting either 0 or 1 in the output variable Y using three input columns X. Model accuracy and the loss function were measures of performance. Both models performed equally well showing 94.4% - 94.8% training accuracy and 95.0% validation accuracy. "
      ]
    },
    {
      "cell_type": "markdown",
      "metadata": {
        "id": "c8-F9r-BDXYe"
      },
      "source": [
        "# Limitations"
      ]
    },
    {
      "cell_type": "markdown",
      "metadata": {
        "id": "TA9GrgR-ozy5"
      },
      "source": [
        "* This assignment was particularly challenging due to some initial lack in understanding of the derivative calculations. Nevertheless, a very learningful exercise to better understand how things work under the hood compared to using Keras and Tensorflow to design neural networks. This assignment has increased my appreciation for better understanding the math underlying the development of neural networks and the translation of these equations into code. \n",
        "\n",
        "* The neural net was representated in the current format. However, there are many other ways you can code a neural network. There is no perfect script. Parts of the neural net were inspired by creations of other developers and practice code from the book Python Machine Learning (Raschka, S. & Mirjalili, V., 2017). I will familiarize myself more in building neural nets from scratch in the coming months to be able to build such models more independently.\n",
        "\n",
        "* Hyperparameter tuning could have been applied more to find a better loss and accuracy curve. Future trials could improve the overall model performance by further tuning the parameters even though in this case the dataset was not that big. \n",
        "\n"
      ]
    },
    {
      "cell_type": "code",
      "metadata": {
        "id": "ThVvij3lDZON"
      },
      "source": [
        ""
      ],
      "execution_count": null,
      "outputs": []
    },
    {
      "cell_type": "markdown",
      "metadata": {
        "id": "0xCTRlSVfP2z"
      },
      "source": [
        "# References\n",
        "\n",
        "Amari, S. (1993). Backpropagation and stochastic gradient descent method. Neurocomputing, 5, 185-196.\n",
        "\n",
        "Brilliant. Backpropagation. Retrieved from https://brilliant.org/wiki/backpropagation/ \n",
        "\n",
        "P. J. Werbos, \"Backpropagation through time: what it does and how to do it,\" in Proceedings of the IEEE, vol. 78, no. 10, pp. 1550-1560\n",
        "\n",
        "Raschka, S., & Mirjalili, V. (2017). Machine learning mit Python und Scikit-Learn und TensorFlow: Das Praxis-Handbuch für Data Science, Predictive Analytics und Deep Learning. MITP Verlags GmbH & Company KG.\n",
        "\n",
        "Rumelhart, David E.; Hinton, Geoffrey E.; Williams, Ronald J. (1986b). \"8. Learning Internal Representations by Error Propagation\". In Rumelhart, David E.; McClelland, James L. (eds.). Parallel Distributed Processing : Explorations in the Microstructure of Cognition. Volume 1 : Foundations. Cambridge: MIT Press. ISBN 0-262-18120-7.\n",
        "\n",
        "Wikipedia. Backpropagation. Retrieved from https://en.wikipedia.org/wiki/Backpropagation"
      ]
    },
    {
      "cell_type": "code",
      "metadata": {
        "id": "ypixo2grfSfk"
      },
      "source": [
        ""
      ],
      "execution_count": null,
      "outputs": []
    }
  ]
}